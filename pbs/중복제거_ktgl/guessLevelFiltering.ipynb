{
 "cells": [
  {
   "cell_type": "code",
   "execution_count": 1,
   "id": "61b4ec81",
   "metadata": {},
   "outputs": [
    {
     "name": "stdout",
     "output_type": "stream",
     "text": [
      "1322\n",
      "1050\n",
      "515\n",
      "=========================\n",
      "start \n",
      "\n"
     ]
    }
   ],
   "source": [
    "import pandas as pd\n",
    "import matplotlib\n",
    "import matplotlib.pyplot as plt\n",
    "import numpy as np\n",
    "import json\n",
    "\n",
    "#Json 파일 읽기\n",
    "m1 = pd.read_json('./m1pbsKTGL.json')\n",
    "m2 = pd.read_json('./m2pbsKTGL.json')\n",
    "m3 = pd.read_json('./m3pbsKTGL.json')\n",
    "\n",
    "print(len(m1))\n",
    "print(len(m2))\n",
    "print(len(m3))\n",
    "print(\"=========================\")\n",
    "print(\"start \", end=\"\\n\\n\")\n",
    "\n",
    "#추측도 0.29미만 필터링\n",
    "m1 = m1[m1['guessLevel'] < 0.29]\n",
    "m2 = m2[m2['guessLevel'] < 0.29]\n",
    "m3 = m3[m3['guessLevel'] < 0.29]\n",
    "\n",
    "m_1 = m1.to_json(orient = 'records')\n",
    "m_2 = m2.to_json(orient = 'records')\n",
    "m_3 = m3.to_json(orient = 'records')\n",
    "\n",
    "with open('m1_filter_guessLevel.txt', 'w') as outfile:\n",
    "    outfile.write(m_1)\n",
    "with open('m2_filter_guessLevel.txt', 'w') as outfile:\n",
    "    outfile.write(m_2)\n",
    "with open('m3_filter_guessLevel.txt', 'w') as outfile:\n",
    "    outfile.write(m_3)"
   ]
  },
  {
   "cell_type": "code",
   "execution_count": null,
   "id": "6aaa6c03",
   "metadata": {},
   "outputs": [],
   "source": []
  }
 ],
 "metadata": {
  "kernelspec": {
   "display_name": "Python 3 (ipykernel)",
   "language": "python",
   "name": "python3"
  },
  "language_info": {
   "codemirror_mode": {
    "name": "ipython",
    "version": 3
   },
   "file_extension": ".py",
   "mimetype": "text/x-python",
   "name": "python",
   "nbconvert_exporter": "python",
   "pygments_lexer": "ipython3",
   "version": "3.7.2"
  }
 },
 "nbformat": 4,
 "nbformat_minor": 5
}
