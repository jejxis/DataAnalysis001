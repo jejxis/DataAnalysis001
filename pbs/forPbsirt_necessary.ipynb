{
 "cells": [
  {
   "cell_type": "code",
   "execution_count": 3,
   "id": "98447690",
   "metadata": {},
   "outputs": [
    {
     "name": "stdout",
     "output_type": "stream",
     "text": [
      "<class 'pandas.core.frame.DataFrame'>\n",
      "=========================\n",
      "start delete unnecessary columns\n",
      "\n",
      "0\n",
      ". ====================================\n",
      "9454\n"
     ]
    }
   ],
   "source": [
    "import pandas as pd\n",
    "import matplotlib\n",
    "import matplotlib.pyplot as plt\n",
    "import numpy as np\n",
    "import json\n",
    "\n",
    "# Json 파일 읽기\n",
    "pbsirt = pd.read_json('./2_문항IRT.json')\n",
    "\n",
    "print(type(pbsirt))\n",
    "print(\"=========================\")\n",
    "print(\"start delete unnecessary columns\", end=\"\\n\\n\")\n",
    "\n",
    "# 필요한 컬럼만 모으기\n",
    "pbs_irt = {}\n",
    "\n",
    "for idx, row in pbsirt.iterrows():\n",
    "\n",
    "    data = {\"testID\": row.testID, \"assessmentItemID\": row.assessmentItemID, \"knowledgeTag\": row.knowledgeTag, \"guessLevel\": row.guessLevel}\n",
    "    pbs_irt[idx] = data\n",
    "\n",
    "    if (idx % 50000 == 0):\n",
    "        print(idx)\n",
    "    elif (idx % 5000 == 0):\n",
    "        print(\".\", end=\" \")\n",
    "\n",
    "print(\"====================================\")\n",
    "print(len(pbs_irt))\n",
    "pbsirt_list = json.dumps(list(pbs_irt.values()))\n",
    "\n",
    "with open('pbsirt_necessary.txt', 'w') as outfile:\n",
    "    outfile.write(pbsirt_list)\n",
    "\n"
   ]
  },
  {
   "cell_type": "code",
   "execution_count": null,
   "id": "9464e595",
   "metadata": {},
   "outputs": [],
   "source": []
  }
 ],
 "metadata": {
  "kernelspec": {
   "display_name": "Python 3 (ipykernel)",
   "language": "python",
   "name": "python3"
  },
  "language_info": {
   "codemirror_mode": {
    "name": "ipython",
    "version": 3
   },
   "file_extension": ".py",
   "mimetype": "text/x-python",
   "name": "python",
   "nbconvert_exporter": "python",
   "pygments_lexer": "ipython3",
   "version": "3.7.2"
  }
 },
 "nbformat": 4,
 "nbformat_minor": 5
}
