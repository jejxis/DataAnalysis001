{
 "cells": [
  {
   "cell_type": "code",
   "execution_count": 16,
   "id": "2546a6a1",
   "metadata": {},
   "outputs": [
    {
     "data": {
      "image/png": "[encoded data removed]",
      "text/plain": [
       "<Figure size 432x288 with 1 Axes>"
      ]
     },
     "metadata": {
      "needs_background": "light"
     },
     "output_type": "display_data"
    },
    {
     "data": {
      "image/png": "[encoded data removed]",
      "text/plain": [
       "<Figure size 432x288 with 1 Axes>"
      ]
     },
     "metadata": {
      "needs_background": "light"
     },
     "output_type": "display_data"
    },
    {
     "data": {
      "image/png": "[encoded data removed]",
      "text/plain": [
       "<Figure size 432x288 with 1 Axes>"
      ]
     },
     "metadata": {
      "needs_background": "light"
     },
     "output_type": "display_data"
    }
   ],
   "source": [
    "import pandas as pd\n",
    "import matplotlib\n",
    "import matplotlib.pyplot as plt\n",
    "import numpy as np\n",
    "import json\n",
    "import ast\n",
    "'''\n",
    "# Json 파일 읽기\n",
    "pbsirt = pd.read_json('./pbsirt_necessary.json')\n",
    "\n",
    "print(type(pbsirt))\n",
    "print(\"=========================\")\n",
    "print(\"start reduce copies\", end=\"\\n\\n\")\n",
    "\n",
    "# 중복제거\n",
    "with open('m1pbs.txt', 'r') as inf:\n",
    "    m1pbs_dict = ast.literal_eval(inf.read())\n",
    "with open('m2pbs.txt', 'r') as inf:\n",
    "    m2pbs_dict = ast.literal_eval(inf.read())\n",
    "with open('m3pbs.txt', 'r') as inf:\n",
    "    m3pbs_dict = ast.literal_eval(inf.read())\n",
    "#m3pbs_dict: list\n",
    "#m3pbs_dict[0]: dict\n",
    "m1pbs_list = []\n",
    "m2pbs_list = []\n",
    "m3pbs_list = []\n",
    "\n",
    "#각 리스트의 요소별로 testID 값과 assessmentItemID 값을 합친 것. 두 값 다 문자열이길래 더했음.\n",
    "for i in range(len(m1pbs_dict)):\n",
    "    m1pbs_list.append(m1pbs_dict[i][\"testID\"]+m1pbs_dict[i][\"assessmentItemID\"])\n",
    "for i in range(len(m2pbs_dict)):\n",
    "    m2pbs_list.append(m2pbs_dict[i][\"testID\"]+m2pbs_dict[i][\"assessmentItemID\"])\n",
    "for i in range(len(m3pbs_dict)):\n",
    "    m3pbs_list.append(m3pbs_dict[i][\"testID\"]+m3pbs_dict[i][\"assessmentItemID\"])\n",
    "\n",
    "#set 함수 이용해서 testID + assessmentItemID 의 중복 제거\n",
    "m1pbs_set = set(m1pbs_list)\n",
    "m2pbs_set = set(m2pbs_list)\n",
    "m3pbs_set = set(m3pbs_list)\n",
    "\n",
    "print(len(m1pbs_list))\n",
    "print(len(m2pbs_list))\n",
    "print(len(m3pbs_list))\n",
    "\n",
    "#각 학년이 푼 문제들의 추측도 저장\n",
    "m1guess = []\n",
    "m2guess = []\n",
    "m3guess = []\n",
    "\n",
    "#m1pbs ex): {\"testID\": \"A070000068\", \"assessmentItemID\": \"A070068009\"}\n",
    "for idx, row in pbsirt.iterrows():\n",
    "    semidata = row.testID + row.assessmentItemID\n",
    "    data = {\"testID\": row.testID, \"assessmentItemID\": row.assessmentItemID, \"knowledgeTag\": row.knowledgeTag, \"guessLevel\": row.guessLevel}\n",
    "    \n",
    "    if semidata in m1pbs_set:\n",
    "        m1guess.append(data)\n",
    "        \n",
    "    if semidata in m2pbs_set:\n",
    "        m2guess.append(data)\n",
    "        \n",
    "    if semidata in m3pbs_set:\n",
    "        m3guess.append(data)\n",
    "\n",
    "    if (idx % 50000 == 0):\n",
    "        print(idx)\n",
    "    elif (idx % 5000 == 0):\n",
    "        print(\".\", end=\" \")\n",
    "\n",
    "print(\"====================================\")\n",
    "print(idx)\n",
    "print(len(m1guess))\n",
    "print(len(m2guess))\n",
    "print(len(m3guess))\n",
    "\n",
    "m1_list = json.dumps(m1guess)\n",
    "m2_list = json.dumps(m2guess)\n",
    "m3_list = json.dumps(m3guess)\n",
    "\n",
    "#문제별 추측도와 지식체계 리스트 파일 저장\n",
    "with open('m1pbsKTGL.txt', 'w') as outfile:\n",
    "    outfile.write(m1_list)\n",
    "with open('m2pbsKTGL.txt', 'w') as outfile:\n",
    "    outfile.write(m2_list)\n",
    "with open('m3pbsKTGL.txt', 'w') as outfile:\n",
    "    outfile.write(m3_list)\n",
    "'''\n",
    "m1 = pd.read_json('./중복제거_ktgl/m1pbsKTGL.json')\n",
    "m2 = pd.read_json('./중복제거_ktgl/m2pbsKTGL.json')\n",
    "m3 = pd.read_json('./중복제거_ktgl/m3pbsKTGL.json')\n",
    "\n",
    "#각 학년별 추측도 그래프 그리기\n",
    "matplotlib.rcParams['axes.unicode_minus'] = False\n",
    "\n",
    "#추측도 시각화\n",
    "#1학년\n",
    "plt.hist(m1['guessLevel'], bins=50)\n",
    "plt.xlabel(\"m1_guessLevel\")\n",
    "plt.ylabel(\"count\")\n",
    "\n",
    "plt.grid()\n",
    "plt.show()\n",
    "#2학년\n",
    "plt.hist(m2['guessLevel'], bins=50)\n",
    "plt.xlabel(\"m2_guessLevel\")\n",
    "plt.ylabel(\"count\")\n",
    "\n",
    "plt.grid()\n",
    "plt.show()\n",
    "\n",
    "#3학년\n",
    "plt.hist(m3['guessLevel'], bins=50)\n",
    "plt.xlabel(\"m3_guessLevel\")\n",
    "plt.ylabel(\"count\")\n",
    "\n",
    "plt.grid()\n",
    "plt.show()\n"
   ]
  },
  {
   "cell_type": "code",
   "execution_count": null,
   "id": "a4ff26e3",
   "metadata": {},
   "outputs": [],
   "source": []
  }
 ],
 "metadata": {
  "kernelspec": {
   "display_name": "Python 3 (ipykernel)",
   "language": "python",
   "name": "python3"
  },
  "language_info": {
   "codemirror_mode": {
    "name": "ipython",
    "version": 3
   },
   "file_extension": ".py",
   "mimetype": "text/x-python",
   "name": "python",
   "nbconvert_exporter": "python",
   "pygments_lexer": "ipython3",
   "version": "3.7.2"
  }
 },
 "nbformat": 4,
 "nbformat_minor": 5
}
